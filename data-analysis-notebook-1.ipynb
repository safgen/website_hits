{
 "cells": [
  {
   "cell_type": "markdown",
   "metadata": {},
   "source": [
    "# Data Analysis and Feature encoding\n",
    "\n",
    "Before, moving on to the prediction step, the data needs to be analyzed first. This document presents the following stages of this case study.\n",
    "1. Examining the data\n",
    "2. Managiing the missing Values\n",
    "3. Visualizing individual Data Columns\n",
    "4. Cleaning the data\n",
    "4. Checking Correlations\n",
    "5. Feature Encoding\n",
    "6. Separating the known and unknown 'hits' data"
   ]
  },
  {
   "cell_type": "markdown",
   "metadata": {},
   "source": [
    "Before moving on, let's import all the packages we'll be needing here."
   ]
  },
  {
   "cell_type": "code",
   "execution_count": 1,
   "metadata": {},
   "outputs": [],
   "source": [
    "import pandas as pd\n",
    "from sklearn.preprocessing import StandardScaler, LabelEncoder, MinMaxScaler\n",
    "from sklearn.impute import SimpleImputer\n",
    "import matplotlib.pyplot as plt \n",
    "import numpy as np \n",
    "import seaborn as sns\n",
    "from sklearn.feature_extraction import FeatureHasher"
   ]
  },
  {
   "cell_type": "markdown",
   "metadata": {},
   "source": [
    "# Examining the Data"
   ]
  },
  {
   "cell_type": "markdown",
   "metadata": {},
   "source": [
    "First, let's have a look at the data set as a whole to understand the schema of the data"
   ]
  },
  {
   "cell_type": "code",
   "execution_count": 2,
   "metadata": {},
   "outputs": [
    {
     "name": "stdout",
     "output_type": "stream",
     "text": [
      "(988681, 10)\n",
      "<class 'pandas.core.frame.DataFrame'>\n",
      "RangeIndex: 988681 entries, 0 to 988680\n",
      "Data columns (total 10 columns):\n",
      " #   Column             Non-Null Count   Dtype \n",
      "---  ------             --------------   ----- \n",
      " 0   row_num            988681 non-null  int64 \n",
      " 1   locale             988681 non-null  object\n",
      " 2   day_of_week        988681 non-null  object\n",
      " 3   hour_of_day        988681 non-null  int64 \n",
      " 4   agent_id           988681 non-null  int64 \n",
      " 5   entry_page         988681 non-null  int64 \n",
      " 6   path_id_set        983792 non-null  object\n",
      " 7   traffic_type       988681 non-null  int64 \n",
      " 8   session_durantion  988681 non-null  object\n",
      " 9   hits               988681 non-null  object\n",
      "dtypes: int64(5), object(5)\n",
      "memory usage: 75.4+ MB\n"
     ]
    }
   ],
   "source": [
    "nRowsRead = None  # This can be changed into an integer in order to load a smaller chunk of the data.\n",
    "df = pd.read_csv('Case Study Data.csv', delimiter= ';', nrows = nRowsRead)\n",
    "print(df.shape)\n",
    "df.info()"
   ]
  },
  {
   "cell_type": "code",
   "execution_count": null,
   "metadata": {},
   "outputs": [],
   "source": []
  },
  {
   "cell_type": "markdown",
   "metadata": {},
   "source": [
    "There is a typo in one of the the column names, so let's correct this in order to avoid confusion later. Also, let's replace the unknown values with numpy nans for ease of  handlimg the unknown values."
   ]
  },
  {
   "cell_type": "code",
   "execution_count": 3,
   "metadata": {},
   "outputs": [
    {
     "name": "stdout",
     "output_type": "stream",
     "text": [
      "<class 'pandas.core.frame.DataFrame'>\n",
      "RangeIndex: 988681 entries, 0 to 988680\n",
      "Data columns (total 10 columns):\n",
      " #   Column            Non-Null Count   Dtype \n",
      "---  ------            --------------   ----- \n",
      " 0   row_num           988681 non-null  int64 \n",
      " 1   locale            988681 non-null  object\n",
      " 2   day_of_week       988681 non-null  object\n",
      " 3   hour_of_day       988681 non-null  int64 \n",
      " 4   agent_id          988681 non-null  int64 \n",
      " 5   entry_page        988681 non-null  int64 \n",
      " 6   path_id_set       983792 non-null  object\n",
      " 7   traffic_type      988681 non-null  int64 \n",
      " 8   session_duration  988013 non-null  object\n",
      " 9   hits              619235 non-null  object\n",
      "dtypes: int64(5), object(5)\n",
      "memory usage: 75.4+ MB\n"
     ]
    }
   ],
   "source": [
    "# fixing the typo in the column name\n",
    "df = df.rename(columns={'session_durantion': 'session_duration'})\n",
    "# replacing missing values with Nan\n",
    "df = df.replace('\\\\N', np.nan)\n",
    "df.info()"
   ]
  },
  {
   "cell_type": "code",
   "execution_count": 4,
   "metadata": {},
   "outputs": [
    {
     "data": {
      "text/plain": [
       "row_num                  0\n",
       "locale                   0\n",
       "day_of_week              0\n",
       "hour_of_day              0\n",
       "agent_id                 0\n",
       "entry_page               0\n",
       "path_id_set           4889\n",
       "traffic_type             0\n",
       "session_duration       668\n",
       "hits                369446\n",
       "dtype: int64"
      ]
     },
     "execution_count": 4,
     "metadata": {},
     "output_type": "execute_result"
    }
   ],
   "source": [
    "df.isnull().sum()"
   ]
  },
  {
   "cell_type": "markdown",
   "metadata": {},
   "source": [
    "We can see here that the couple of feature columns also hae missing values. In the following section, let's tackle those those values."
   ]
  },
  {
   "cell_type": "markdown",
   "metadata": {},
   "source": [
    "# Fill in the missing values "
   ]
  },
  {
   "cell_type": "markdown",
   "metadata": {},
   "source": [
    "Let's start by filling in the missing values in session_duration by using a simple imputer with a mean strategy. We could have used an iterative imputer but that seemed to be an overkill for such a small number of missing values."
   ]
  },
  {
   "cell_type": "code",
   "execution_count": 5,
   "metadata": {},
   "outputs": [
    {
     "data": {
      "text/plain": [
       "row_num                  0\n",
       "locale                   0\n",
       "day_of_week              0\n",
       "hour_of_day              0\n",
       "agent_id                 0\n",
       "entry_page               0\n",
       "path_id_set           4889\n",
       "traffic_type             0\n",
       "session_duration         0\n",
       "hits                369446\n",
       "dtype: int64"
      ]
     },
     "execution_count": 5,
     "metadata": {},
     "output_type": "execute_result"
    }
   ],
   "source": [
    "imputer = SimpleImputer(missing_values = np.nan, strategy = 'mean')\n",
    "imputer = imputer.fit(df[['session_duration']])\n",
    "df['session_duration'] = imputer.transform(df[['session_duration']])\n",
    "df['session_duration'] = df['session_duration'].astype(float) # changing to a numeric type after filling in the missing values \n",
    "df.isnull().sum()"
   ]
  },
  {
   "cell_type": "markdown",
   "metadata": {},
   "source": [
    "Values filled in. Now, let's deal with the missing path_id_set values."
   ]
  },
  {
   "cell_type": "code",
   "execution_count": 6,
   "metadata": {},
   "outputs": [
    {
     "name": "stdout",
     "output_type": "stream",
     "text": [
      "count     4889.000000\n",
      "mean       905.935570\n",
      "std       6441.779028\n",
      "min          0.000000\n",
      "25%          0.000000\n",
      "50%          0.000000\n",
      "75%          0.000000\n",
      "max      82462.000000\n",
      "Name: session_duration, dtype: float64\n",
      "count     3153\n",
      "unique      44\n",
      "top          1\n",
      "freq      2743\n",
      "Name: hits, dtype: object\n"
     ]
    }
   ],
   "source": [
    "# analyzing the entries with missing path ids\n",
    "df_no_path = df[df['path_id_set'].isna()]\n",
    "print(df_no_path['session_duration'].describe())\n",
    "print(df_no_path['hits'].describe())"
   ]
  },
  {
   "cell_type": "markdown",
   "metadata": {},
   "source": [
    "The session_duration and hits values where path_ids are zeros indicate that missing path_ids can be assumed as an 'empty set' of values rather than missing values. Also, changing the 'hits' column to numeric type after changing '\\N' to np.nan earlier"
   ]
  },
  {
   "cell_type": "code",
   "execution_count": 7,
   "metadata": {},
   "outputs": [],
   "source": [
    "df['hits'] = df['hits'].astype(float) # changing to numeric type; float because of numpy nans"
   ]
  },
  {
   "cell_type": "markdown",
   "metadata": {},
   "source": [
    "# Visualizing individual columns\n",
    "\n",
    "Here let's just visualize individual features of the data to get a better unserstanding of what we are dealing with"
   ]
  },
  {
   "cell_type": "code",
   "execution_count": 8,
   "metadata": {
    "scrolled": true
   },
   "outputs": [
    {
     "data": {
      "text/plain": [
       "<matplotlib.axes._subplots.AxesSubplot at 0x20898174e10>"
      ]
     },
     "execution_count": 8,
     "metadata": {},
     "output_type": "execute_result"
    },
    {
     "data": {
      "image/png": "[encoded data removed]",
      "text/plain": [
       "<Figure size 432x288 with 1 Axes>"
      ]
     },
     "metadata": {
      "needs_background": "light"
     },
     "output_type": "display_data"
    }
   ],
   "source": [
    "df['locale'].value_counts().plot(kind='bar')"
   ]
  },
  {
   "cell_type": "code",
   "execution_count": 9,
   "metadata": {},
   "outputs": [
    {
     "data": {
      "text/plain": [
       "<matplotlib.axes._subplots.AxesSubplot at 0x208970dcc18>"
      ]
     },
     "execution_count": 9,
     "metadata": {},
     "output_type": "execute_result"
    },
    {
     "data": {
      "image/png": "[encoded data removed]",
      "text/plain": [
       "<Figure size 432x288 with 1 Axes>"
      ]
     },
     "metadata": {
      "needs_background": "light"
     },
     "output_type": "display_data"
    }
   ],
   "source": [
    "df['day_of_week'].value_counts().plot(kind='bar')"
   ]
  },
  {
   "cell_type": "code",
   "execution_count": 10,
   "metadata": {},
   "outputs": [
    {
     "data": {
      "text/plain": [
       "<matplotlib.axes._subplots.AxesSubplot at 0x208979f8908>"
      ]
     },
     "execution_count": 10,
     "metadata": {},
     "output_type": "execute_result"
    },
    {
     "data": {
      "image/png": "[encoded data removed]",
      "text/plain": [
       "<Figure size 432x288 with 1 Axes>"
      ]
     },
     "metadata": {
      "needs_background": "light"
     },
     "output_type": "display_data"
    }
   ],
   "source": [
    "df['hour_of_day'].value_counts().plot(kind='bar')"
   ]
  },
  {
   "cell_type": "code",
   "execution_count": 11,
   "metadata": {},
   "outputs": [
    {
     "data": {
      "text/plain": [
       "<matplotlib.axes._subplots.AxesSubplot at 0x2089deda6d8>"
      ]
     },
     "execution_count": 11,
     "metadata": {},
     "output_type": "execute_result"
    },
    {
     "data": {
      "image/png": "[encoded data removed]",
      "text/plain": [
       "<Figure size 432x288 with 1 Axes>"
      ]
     },
     "metadata": {
      "needs_background": "light"
     },
     "output_type": "display_data"
    }
   ],
   "source": [
    "df['agent_id'].value_counts().plot(kind='bar')"
   ]
  },
  {
   "cell_type": "code",
   "execution_count": 12,
   "metadata": {},
   "outputs": [
    {
     "data": {
      "text/plain": [
       "<matplotlib.axes._subplots.AxesSubplot at 0x20897b5a6d8>"
      ]
     },
     "execution_count": 12,
     "metadata": {},
     "output_type": "execute_result"
    },
    {
     "data": {
      "image/png": "[encoded data removed]",
      "text/plain": [
       "<Figure size 432x288 with 1 Axes>"
      ]
     },
     "metadata": {
      "needs_background": "light"
     },
     "output_type": "display_data"
    }
   ],
   "source": [
    "df['entry_page'].plot(kind='hist')"
   ]
  },
  {
   "cell_type": "code",
   "execution_count": 13,
   "metadata": {},
   "outputs": [
    {
     "data": {
      "text/plain": [
       "<matplotlib.axes._subplots.AxesSubplot at 0x2089dd67160>"
      ]
     },
     "execution_count": 13,
     "metadata": {},
     "output_type": "execute_result"
    },
    {
     "data": {
      "image/png": "[encoded data removed]",
      "text/plain": [
       "<Figure size 432x288 with 1 Axes>"
      ]
     },
     "metadata": {
      "needs_background": "light"
     },
     "output_type": "display_data"
    }
   ],
   "source": [
    "df['traffic_type'].value_counts().plot(kind='bar')"
   ]
  },
  {
   "cell_type": "code",
   "execution_count": 14,
   "metadata": {},
   "outputs": [
    {
     "name": "stdout",
     "output_type": "stream",
     "text": [
      "count    988681.000000\n",
      "mean        492.918447\n",
      "std        1920.873736\n",
      "min           0.000000\n",
      "25%           4.000000\n",
      "50%          57.000000\n",
      "75%         325.000000\n",
      "max       86219.000000\n",
      "Name: session_duration, dtype: float64\n"
     ]
    },
    {
     "data": {
      "text/plain": [
       "<matplotlib.axes._subplots.AxesSubplot at 0x20897b6db00>"
      ]
     },
     "execution_count": 14,
     "metadata": {},
     "output_type": "execute_result"
    },
    {
     "data": {
      "image/png": "[encoded data removed]",
      "text/plain": [
       "<Figure size 432x288 with 1 Axes>"
      ]
     },
     "metadata": {
      "needs_background": "light"
     },
     "output_type": "display_data"
    }
   ],
   "source": [
    "print(df['session_duration'].describe())\n",
    "df['session_duration'].plot(kind='hist', bins=100)\n"
   ]
  },
  {
   "cell_type": "markdown",
   "metadata": {},
   "source": [
    "The description of this column and its distribution tells us that there may be a very small fraction values that are skewing the picture and are not representative of the data in general. Let's deal with it in the next section."
   ]
  },
  {
   "cell_type": "code",
   "execution_count": 15,
   "metadata": {},
   "outputs": [
    {
     "data": {
      "text/plain": [
       "count     983792\n",
       "unique    151267\n",
       "top            0\n",
       "freq       54444\n",
       "Name: path_id_set, dtype: object"
      ]
     },
     "execution_count": 15,
     "metadata": {},
     "output_type": "execute_result"
    }
   ],
   "source": [
    "df['path_id_set'].describe()"
   ]
  },
  {
   "cell_type": "code",
   "execution_count": 16,
   "metadata": {},
   "outputs": [
    {
     "name": "stdout",
     "output_type": "stream",
     "text": [
      "count    619235.000000\n",
      "mean         18.210079\n",
      "std          39.099699\n",
      "min           1.000000\n",
      "25%           3.000000\n",
      "50%           7.000000\n",
      "75%          19.000000\n",
      "max        4174.000000\n",
      "Name: hits, dtype: float64\n"
     ]
    },
    {
     "data": {
      "text/plain": [
       "<matplotlib.axes._subplots.AxesSubplot at 0x208969f7b38>"
      ]
     },
     "execution_count": 16,
     "metadata": {},
     "output_type": "execute_result"
    },
    {
     "data": {
      "image/png": "[encoded data removed]",
      "text/plain": [
       "<Figure size 432x288 with 1 Axes>"
      ]
     },
     "metadata": {
      "needs_background": "light"
     },
     "output_type": "display_data"
    }
   ],
   "source": [
    "print(df['hits'].describe())\n",
    "df['hits'].plot(kind='hist', bins=100)"
   ]
  },
  {
   "cell_type": "markdown",
   "metadata": {},
   "source": [
    "Here again, we see a small number of outliers skewing the overall representation disproportionately."
   ]
  },
  {
   "cell_type": "markdown",
   "metadata": {},
   "source": [
    "# Data cleaning\n",
    "\n",
    "Let's remove the extreme outliers. I'll be using quantiles to remove the extreme outliers. The model training improved drastically with this simple, yet effective, filtering on the two columns from the previous section."
   ]
  },
  {
   "cell_type": "code",
   "execution_count": 17,
   "metadata": {},
   "outputs": [],
   "source": [
    "def clean_by_quantile(df, columns, q_levels):\n",
    "    for column, q_level in zip(columns, q_levels):\n",
    "        if column in df.columns:\n",
    "            q = df[column].quantile(q_level)\n",
    "            df = df[df[column].isna() | (df[column] < q)]\n",
    "    return df"
   ]
  },
  {
   "cell_type": "code",
   "execution_count": 18,
   "metadata": {},
   "outputs": [
    {
     "data": {
      "text/html": [
       "<div>\n",
       "<style scoped>\n",
       "    .dataframe tbody tr th:only-of-type {\n",
       "        vertical-align: middle;\n",
       "    }\n",
       "\n",
       "    .dataframe tbody tr th {\n",
       "        vertical-align: top;\n",
       "    }\n",
       "\n",
       "    .dataframe thead th {\n",
       "        text-align: right;\n",
       "    }\n",
       "</style>\n",
       "<table border=\"1\" class=\"dataframe\">\n",
       "  <thead>\n",
       "    <tr style=\"text-align: right;\">\n",
       "      <th></th>\n",
       "      <th>row_num</th>\n",
       "      <th>hour_of_day</th>\n",
       "      <th>agent_id</th>\n",
       "      <th>entry_page</th>\n",
       "      <th>traffic_type</th>\n",
       "      <th>session_duration</th>\n",
       "      <th>hits</th>\n",
       "    </tr>\n",
       "  </thead>\n",
       "  <tbody>\n",
       "    <tr>\n",
       "      <th>count</th>\n",
       "      <td>972595.000000</td>\n",
       "      <td>972595.000000</td>\n",
       "      <td>972595.000000</td>\n",
       "      <td>972595.000000</td>\n",
       "      <td>972595.000000</td>\n",
       "      <td>972595.000000</td>\n",
       "      <td>606811.000000</td>\n",
       "    </tr>\n",
       "    <tr>\n",
       "      <th>mean</th>\n",
       "      <td>494279.996615</td>\n",
       "      <td>13.223764</td>\n",
       "      <td>7.359923</td>\n",
       "      <td>2252.157428</td>\n",
       "      <td>2.793802</td>\n",
       "      <td>363.660166</td>\n",
       "      <td>14.961499</td>\n",
       "    </tr>\n",
       "    <tr>\n",
       "      <th>std</th>\n",
       "      <td>285416.255407</td>\n",
       "      <td>6.714663</td>\n",
       "      <td>3.861941</td>\n",
       "      <td>778.103739</td>\n",
       "      <td>1.925059</td>\n",
       "      <td>753.654021</td>\n",
       "      <td>20.458390</td>\n",
       "    </tr>\n",
       "    <tr>\n",
       "      <th>min</th>\n",
       "      <td>1.000000</td>\n",
       "      <td>0.000000</td>\n",
       "      <td>0.000000</td>\n",
       "      <td>2100.000000</td>\n",
       "      <td>1.000000</td>\n",
       "      <td>0.000000</td>\n",
       "      <td>1.000000</td>\n",
       "    </tr>\n",
       "    <tr>\n",
       "      <th>25%</th>\n",
       "      <td>247077.500000</td>\n",
       "      <td>8.000000</td>\n",
       "      <td>6.000000</td>\n",
       "      <td>2111.000000</td>\n",
       "      <td>1.000000</td>\n",
       "      <td>4.000000</td>\n",
       "      <td>3.000000</td>\n",
       "    </tr>\n",
       "    <tr>\n",
       "      <th>50%</th>\n",
       "      <td>494277.000000</td>\n",
       "      <td>14.000000</td>\n",
       "      <td>9.000000</td>\n",
       "      <td>2113.000000</td>\n",
       "      <td>2.000000</td>\n",
       "      <td>53.000000</td>\n",
       "      <td>6.000000</td>\n",
       "    </tr>\n",
       "    <tr>\n",
       "      <th>75%</th>\n",
       "      <td>741420.500000</td>\n",
       "      <td>19.000000</td>\n",
       "      <td>10.000000</td>\n",
       "      <td>2116.000000</td>\n",
       "      <td>4.000000</td>\n",
       "      <td>298.000000</td>\n",
       "      <td>18.000000</td>\n",
       "    </tr>\n",
       "    <tr>\n",
       "      <th>max</th>\n",
       "      <td>988680.000000</td>\n",
       "      <td>23.000000</td>\n",
       "      <td>15.000000</td>\n",
       "      <td>8101.000000</td>\n",
       "      <td>10.000000</td>\n",
       "      <td>5220.000000</td>\n",
       "      <td>149.000000</td>\n",
       "    </tr>\n",
       "  </tbody>\n",
       "</table>\n",
       "</div>"
      ],
      "text/plain": [
       "             row_num    hour_of_day       agent_id     entry_page  \\\n",
       "count  972595.000000  972595.000000  972595.000000  972595.000000   \n",
       "mean   494279.996615      13.223764       7.359923    2252.157428   \n",
       "std    285416.255407       6.714663       3.861941     778.103739   \n",
       "min         1.000000       0.000000       0.000000    2100.000000   \n",
       "25%    247077.500000       8.000000       6.000000    2111.000000   \n",
       "50%    494277.000000      14.000000       9.000000    2113.000000   \n",
       "75%    741420.500000      19.000000      10.000000    2116.000000   \n",
       "max    988680.000000      23.000000      15.000000    8101.000000   \n",
       "\n",
       "        traffic_type  session_duration           hits  \n",
       "count  972595.000000     972595.000000  606811.000000  \n",
       "mean        2.793802        363.660166      14.961499  \n",
       "std         1.925059        753.654021      20.458390  \n",
       "min         1.000000          0.000000       1.000000  \n",
       "25%         1.000000          4.000000       3.000000  \n",
       "50%         2.000000         53.000000       6.000000  \n",
       "75%         4.000000        298.000000      18.000000  \n",
       "max        10.000000       5220.000000     149.000000  "
      ]
     },
     "execution_count": 18,
     "metadata": {},
     "output_type": "execute_result"
    }
   ],
   "source": [
    "df_clean = clean_by_quantile(df.copy(), ['session_duration', 'hits'], [0.99, 0.99])\n",
    "df_clean.describe()"
   ]
  },
  {
   "cell_type": "markdown",
   "metadata": {},
   "source": [
    "Furthermore, the correlation analysis - described later in this notebook - revealed that the number of hits have a higher correlation with the the number of locations in the path_id_set rather than the actual locations themselves. So we'll add an additional column to help us build a better model."
   ]
  },
  {
   "cell_type": "code",
   "execution_count": 19,
   "metadata": {},
   "outputs": [],
   "source": [
    "#mapping function to get the path_length from path_id_set\n",
    "def get_path_length(x):\n",
    "    if x is not np.nan:\n",
    "        x = str(x)\n",
    "        y = len(x.split(';'))\n",
    "    else:\n",
    "        y=0\n",
    "    return y"
   ]
  },
  {
   "cell_type": "code",
   "execution_count": 20,
   "metadata": {},
   "outputs": [],
   "source": [
    "df_clean['path_length'] = df_clean['path_id_set'].apply(lambda x: get_path_length(x))"
   ]
  },
  {
   "cell_type": "markdown",
   "metadata": {},
   "source": [
    "Here, now we have a new column in our data."
   ]
  },
  {
   "cell_type": "markdown",
   "metadata": {},
   "source": [
    "# Correlations\n",
    "\n",
    "Before checking correlations, we'll separate data with hits so that np.nans don't interfere with the correlation calculations"
   ]
  },
  {
   "cell_type": "code",
   "execution_count": 21,
   "metadata": {},
   "outputs": [],
   "source": [
    "df_wo_hits = df_clean[df_clean['hits'].isna()]\n",
    "df_hits = df_clean[df_clean['hits'].notna()]"
   ]
  },
  {
   "cell_type": "markdown",
   "metadata": {},
   "source": [
    "First, let's observe the Correlation among continuous variables after path_length"
   ]
  },
  {
   "cell_type": "code",
   "execution_count": 22,
   "metadata": {},
   "outputs": [
    {
     "data": {
      "text/html": [
       "<style  type=\"text/css\" >\n",
       "    #T_13170092_9c3b_11ea_b810_34e12d553191row0_col0 {\n",
       "            background-color:  #023858;\n",
       "            color:  #f1f1f1;\n",
       "        }    #T_13170092_9c3b_11ea_b810_34e12d553191row0_col1 {\n",
       "            background-color:  #fff7fb;\n",
       "            color:  #000000;\n",
       "        }    #T_13170092_9c3b_11ea_b810_34e12d553191row0_col2 {\n",
       "            background-color:  #1c7fb8;\n",
       "            color:  #000000;\n",
       "        }    #T_13170092_9c3b_11ea_b810_34e12d553191row1_col0 {\n",
       "            background-color:  #fff7fb;\n",
       "            color:  #000000;\n",
       "        }    #T_13170092_9c3b_11ea_b810_34e12d553191row1_col1 {\n",
       "            background-color:  #023858;\n",
       "            color:  #f1f1f1;\n",
       "        }    #T_13170092_9c3b_11ea_b810_34e12d553191row1_col2 {\n",
       "            background-color:  #fff7fb;\n",
       "            color:  #000000;\n",
       "        }    #T_13170092_9c3b_11ea_b810_34e12d553191row2_col0 {\n",
       "            background-color:  #0d75b3;\n",
       "            color:  #f1f1f1;\n",
       "        }    #T_13170092_9c3b_11ea_b810_34e12d553191row2_col1 {\n",
       "            background-color:  #ede8f3;\n",
       "            color:  #000000;\n",
       "        }    #T_13170092_9c3b_11ea_b810_34e12d553191row2_col2 {\n",
       "            background-color:  #023858;\n",
       "            color:  #f1f1f1;\n",
       "        }</style><table id=\"T_13170092_9c3b_11ea_b810_34e12d553191\" ><thead>    <tr>        <th class=\"blank level0\" ></th>        <th class=\"col_heading level0 col0\" >session_duration</th>        <th class=\"col_heading level0 col1\" >path_length</th>        <th class=\"col_heading level0 col2\" >hits</th>    </tr></thead><tbody>\n",
       "                <tr>\n",
       "                        <th id=\"T_13170092_9c3b_11ea_b810_34e12d553191level0_row0\" class=\"row_heading level0 row0\" >session_duration</th>\n",
       "                        <td id=\"T_13170092_9c3b_11ea_b810_34e12d553191row0_col0\" class=\"data row0 col0\" >1.000000</td>\n",
       "                        <td id=\"T_13170092_9c3b_11ea_b810_34e12d553191row0_col1\" class=\"data row0 col1\" >0.499766</td>\n",
       "                        <td id=\"T_13170092_9c3b_11ea_b810_34e12d553191row0_col2\" class=\"data row0 col2\" >0.863663</td>\n",
       "            </tr>\n",
       "            <tr>\n",
       "                        <th id=\"T_13170092_9c3b_11ea_b810_34e12d553191level0_row1\" class=\"row_heading level0 row1\" >path_length</th>\n",
       "                        <td id=\"T_13170092_9c3b_11ea_b810_34e12d553191row1_col0\" class=\"data row1 col0\" >0.499766</td>\n",
       "                        <td id=\"T_13170092_9c3b_11ea_b810_34e12d553191row1_col1\" class=\"data row1 col1\" >1.000000</td>\n",
       "                        <td id=\"T_13170092_9c3b_11ea_b810_34e12d553191row1_col2\" class=\"data row1 col2\" >0.559555</td>\n",
       "            </tr>\n",
       "            <tr>\n",
       "                        <th id=\"T_13170092_9c3b_11ea_b810_34e12d553191level0_row2\" class=\"row_heading level0 row2\" >hits</th>\n",
       "                        <td id=\"T_13170092_9c3b_11ea_b810_34e12d553191row2_col0\" class=\"data row2 col0\" >0.863663</td>\n",
       "                        <td id=\"T_13170092_9c3b_11ea_b810_34e12d553191row2_col1\" class=\"data row2 col1\" >0.559555</td>\n",
       "                        <td id=\"T_13170092_9c3b_11ea_b810_34e12d553191row2_col2\" class=\"data row2 col2\" >1.000000</td>\n",
       "            </tr>\n",
       "    </tbody></table>"
      ],
      "text/plain": [
       "<pandas.io.formats.style.Styler at 0x20896a52b70>"
      ]
     },
     "execution_count": 22,
     "metadata": {},
     "output_type": "execute_result"
    }
   ],
   "source": [
    "cont_col = ['session_duration', 'path_length', 'hits']\n",
    "df_cont = df_hits[cont_col] \n",
    "corr = df_cont.corr(method='spearman')\n",
    "corr.style.background_gradient()"
   ]
  },
  {
   "cell_type": "markdown",
   "metadata": {},
   "source": [
    "Then let's observe the  Correlation Ratio between hits and categorical features"
   ]
  },
  {
   "cell_type": "code",
   "execution_count": 23,
   "metadata": {},
   "outputs": [],
   "source": [
    "def correlation_ratio(categories, measurements):\n",
    "    fcat, _ = pd.factorize(categories)\n",
    "    cat_num = np.max(fcat)+1\n",
    "    y_avg_array = np.zeros(cat_num)\n",
    "    n_array = np.zeros(cat_num)\n",
    "    for i in range(0,cat_num):\n",
    "        cat_measures = measurements[np.argwhere(fcat == i).flatten()]\n",
    "        n_array[i] = len(cat_measures)\n",
    "        y_avg_array[i] = np.average(cat_measures)\n",
    "    y_total_avg = np.sum(np.multiply(y_avg_array,n_array))/np.sum(n_array)\n",
    "    numerator = np.sum(np.multiply(n_array,np.power(np.subtract(y_avg_array,y_total_avg),2)))\n",
    "    denominator = np.sum(np.power(np.subtract(measurements,y_total_avg),2))\n",
    "    if numerator == 0:\n",
    "        eta = 0.0\n",
    "    else:\n",
    "        eta = np.sqrt(numerator/denominator)\n",
    "    return eta\n"
   ]
  },
  {
   "cell_type": "code",
   "execution_count": 24,
   "metadata": {},
   "outputs": [
    {
     "name": "stdout",
     "output_type": "stream",
     "text": [
      "Correlation ratio between locale & hits is = 0.06276009462852863, whereas total # of categories is: 6\n",
      "Correlation ratio between day_of_week & hits is = 0.011333518612777115, whereas total # of categories is: 7\n",
      "Correlation ratio between hour_of_day & hits is = 0.014458718061775722, whereas total # of categories is: 24\n",
      "Correlation ratio between agent_id & hits is = 0.04480953822813183, whereas total # of categories is: 15\n",
      "Correlation ratio between entry_page & hits is = 0.27392332994092466, whereas total # of categories is: 134\n",
      "Correlation ratio between traffic_type & hits is = 0.30658855727576523, whereas total # of categories is: 7\n"
     ]
    }
   ],
   "source": [
    "for cols in df_hits.columns:\n",
    "    if cols not in ('session_duration', 'path_length', 'hits', 'row_num', 'path_id_set'):\n",
    "        cor_ratio = correlation_ratio(df_hits[cols].tolist(), np.array(df_hits['hits'].tolist()))\n",
    "        print (\"Correlation ratio between \" + cols + \" & hits is = \" + str(cor_ratio) + \n",
    "               ', whereas total # of categories is: ' + str(len(df_hits[cols].unique())))"
   ]
  },
  {
   "cell_type": "code",
   "execution_count": null,
   "metadata": {
    "scrolled": false
   },
   "outputs": [],
   "source": [
    "plot_col = ['day_of_week', 'locale', 'agent_id', 'entry_page', 'traffic_type', 'hour_of_day', 'hits']\n",
    "\n",
    "df_plot = df_hits[plot_col]\n",
    "sns.pairplot(df_plot)\n"
   ]
  },
  {
   "cell_type": "markdown",
   "metadata": {},
   "source": [
    "This figure above shows us the pairwise plot of different features of our data. The next step after the understading of the data is to encode this data so that it can be fed into a machine learning model."
   ]
  },
  {
   "cell_type": "markdown",
   "metadata": {},
   "source": [
    "Before encoding, let's view how our cleaned DataFrame looks like now."
   ]
  },
  {
   "cell_type": "code",
   "execution_count": 47,
   "metadata": {},
   "outputs": [
    {
     "data": {
      "text/html": [
       "<div>\n",
       "<style scoped>\n",
       "    .dataframe tbody tr th:only-of-type {\n",
       "        vertical-align: middle;\n",
       "    }\n",
       "\n",
       "    .dataframe tbody tr th {\n",
       "        vertical-align: top;\n",
       "    }\n",
       "\n",
       "    .dataframe thead th {\n",
       "        text-align: right;\n",
       "    }\n",
       "</style>\n",
       "<table border=\"1\" class=\"dataframe\">\n",
       "  <thead>\n",
       "    <tr style=\"text-align: right;\">\n",
       "      <th></th>\n",
       "      <th>row_num</th>\n",
       "      <th>hour_of_day</th>\n",
       "      <th>agent_id</th>\n",
       "      <th>entry_page</th>\n",
       "      <th>traffic_type</th>\n",
       "      <th>session_duration</th>\n",
       "      <th>hits</th>\n",
       "      <th>path_length</th>\n",
       "    </tr>\n",
       "  </thead>\n",
       "  <tbody>\n",
       "    <tr>\n",
       "      <th>count</th>\n",
       "      <td>972595.000000</td>\n",
       "      <td>972595.000000</td>\n",
       "      <td>972595.000000</td>\n",
       "      <td>972595.000000</td>\n",
       "      <td>972595.000000</td>\n",
       "      <td>972595.000000</td>\n",
       "      <td>606811.000000</td>\n",
       "      <td>972595.000000</td>\n",
       "    </tr>\n",
       "    <tr>\n",
       "      <th>mean</th>\n",
       "      <td>494279.996615</td>\n",
       "      <td>13.223764</td>\n",
       "      <td>7.359923</td>\n",
       "      <td>2252.157428</td>\n",
       "      <td>2.793802</td>\n",
       "      <td>363.660166</td>\n",
       "      <td>14.961499</td>\n",
       "      <td>2.041520</td>\n",
       "    </tr>\n",
       "    <tr>\n",
       "      <th>std</th>\n",
       "      <td>285416.255407</td>\n",
       "      <td>6.714663</td>\n",
       "      <td>3.861941</td>\n",
       "      <td>778.103739</td>\n",
       "      <td>1.925059</td>\n",
       "      <td>753.654021</td>\n",
       "      <td>20.458390</td>\n",
       "      <td>0.826147</td>\n",
       "    </tr>\n",
       "    <tr>\n",
       "      <th>min</th>\n",
       "      <td>1.000000</td>\n",
       "      <td>0.000000</td>\n",
       "      <td>0.000000</td>\n",
       "      <td>2100.000000</td>\n",
       "      <td>1.000000</td>\n",
       "      <td>0.000000</td>\n",
       "      <td>1.000000</td>\n",
       "      <td>0.000000</td>\n",
       "    </tr>\n",
       "    <tr>\n",
       "      <th>25%</th>\n",
       "      <td>247077.500000</td>\n",
       "      <td>8.000000</td>\n",
       "      <td>6.000000</td>\n",
       "      <td>2111.000000</td>\n",
       "      <td>1.000000</td>\n",
       "      <td>4.000000</td>\n",
       "      <td>3.000000</td>\n",
       "      <td>2.000000</td>\n",
       "    </tr>\n",
       "    <tr>\n",
       "      <th>50%</th>\n",
       "      <td>494277.000000</td>\n",
       "      <td>14.000000</td>\n",
       "      <td>9.000000</td>\n",
       "      <td>2113.000000</td>\n",
       "      <td>2.000000</td>\n",
       "      <td>53.000000</td>\n",
       "      <td>6.000000</td>\n",
       "      <td>2.000000</td>\n",
       "    </tr>\n",
       "    <tr>\n",
       "      <th>75%</th>\n",
       "      <td>741420.500000</td>\n",
       "      <td>19.000000</td>\n",
       "      <td>10.000000</td>\n",
       "      <td>2116.000000</td>\n",
       "      <td>4.000000</td>\n",
       "      <td>298.000000</td>\n",
       "      <td>18.000000</td>\n",
       "      <td>2.000000</td>\n",
       "    </tr>\n",
       "    <tr>\n",
       "      <th>max</th>\n",
       "      <td>988680.000000</td>\n",
       "      <td>23.000000</td>\n",
       "      <td>15.000000</td>\n",
       "      <td>8101.000000</td>\n",
       "      <td>10.000000</td>\n",
       "      <td>5220.000000</td>\n",
       "      <td>149.000000</td>\n",
       "      <td>74.000000</td>\n",
       "    </tr>\n",
       "  </tbody>\n",
       "</table>\n",
       "</div>"
      ],
      "text/plain": [
       "             row_num    hour_of_day       agent_id     entry_page  \\\n",
       "count  972595.000000  972595.000000  972595.000000  972595.000000   \n",
       "mean   494279.996615      13.223764       7.359923    2252.157428   \n",
       "std    285416.255407       6.714663       3.861941     778.103739   \n",
       "min         1.000000       0.000000       0.000000    2100.000000   \n",
       "25%    247077.500000       8.000000       6.000000    2111.000000   \n",
       "50%    494277.000000      14.000000       9.000000    2113.000000   \n",
       "75%    741420.500000      19.000000      10.000000    2116.000000   \n",
       "max    988680.000000      23.000000      15.000000    8101.000000   \n",
       "\n",
       "        traffic_type  session_duration           hits    path_length  \n",
       "count  972595.000000     972595.000000  606811.000000  972595.000000  \n",
       "mean        2.793802        363.660166      14.961499       2.041520  \n",
       "std         1.925059        753.654021      20.458390       0.826147  \n",
       "min         1.000000          0.000000       1.000000       0.000000  \n",
       "25%         1.000000          4.000000       3.000000       2.000000  \n",
       "50%         2.000000         53.000000       6.000000       2.000000  \n",
       "75%         4.000000        298.000000      18.000000       2.000000  \n",
       "max        10.000000       5220.000000     149.000000      74.000000  "
      ]
     },
     "execution_count": 47,
     "metadata": {},
     "output_type": "execute_result"
    }
   ],
   "source": [
    "df_clean.describe()"
   ]
  },
  {
   "cell_type": "markdown",
   "metadata": {},
   "source": [
    "# Feature encoding\n",
    "\n",
    "The feature encoding is a very immportant part for preparing the data for the model training and model prediction. So, getting the right kind of encoding for each feature is very important. This dataset is particularly challengng in that regard because it has features that are\n",
    "1) nominal categorical\n",
    "2) categorical with large number of categories\n",
    "3) continous numerical\n",
    "4) cyclical"
   ]
  },
  {
   "cell_type": "markdown",
   "metadata": {},
   "source": [
    "First, let's start by converting all the nominal categorical variables to one hot encoding."
   ]
  },
  {
   "cell_type": "code",
   "execution_count": 52,
   "metadata": {},
   "outputs": [
    {
     "data": {
      "text/html": [
       "<div>\n",
       "<style scoped>\n",
       "    .dataframe tbody tr th:only-of-type {\n",
       "        vertical-align: middle;\n",
       "    }\n",
       "\n",
       "    .dataframe tbody tr th {\n",
       "        vertical-align: top;\n",
       "    }\n",
       "\n",
       "    .dataframe thead th {\n",
       "        text-align: right;\n",
       "    }\n",
       "</style>\n",
       "<table border=\"1\" class=\"dataframe\">\n",
       "  <thead>\n",
       "    <tr style=\"text-align: right;\">\n",
       "      <th></th>\n",
       "      <th>index</th>\n",
       "      <th>row_num</th>\n",
       "      <th>hour_of_day</th>\n",
       "      <th>entry_page</th>\n",
       "      <th>session_duration</th>\n",
       "      <th>hits</th>\n",
       "      <th>path_length</th>\n",
       "      <th>locale_L2</th>\n",
       "      <th>locale_L3</th>\n",
       "      <th>locale_L4</th>\n",
       "      <th>...</th>\n",
       "      <th>agent_12</th>\n",
       "      <th>agent_13</th>\n",
       "      <th>agent_14</th>\n",
       "      <th>agent_15</th>\n",
       "      <th>traffic_2</th>\n",
       "      <th>traffic_3</th>\n",
       "      <th>traffic_4</th>\n",
       "      <th>traffic_6</th>\n",
       "      <th>traffic_7</th>\n",
       "      <th>traffic_10</th>\n",
       "    </tr>\n",
       "  </thead>\n",
       "  <tbody>\n",
       "    <tr>\n",
       "      <th>count</th>\n",
       "      <td>972595.000000</td>\n",
       "      <td>972595.000000</td>\n",
       "      <td>972595.000000</td>\n",
       "      <td>972595.000000</td>\n",
       "      <td>972595.000000</td>\n",
       "      <td>606811.000000</td>\n",
       "      <td>972595.000000</td>\n",
       "      <td>972595.000000</td>\n",
       "      <td>972595.000000</td>\n",
       "      <td>972595.000000</td>\n",
       "      <td>...</td>\n",
       "      <td>972595.000000</td>\n",
       "      <td>972595.000000</td>\n",
       "      <td>972595.000000</td>\n",
       "      <td>972595.000000</td>\n",
       "      <td>972595.000000</td>\n",
       "      <td>972595.000000</td>\n",
       "      <td>972595.000000</td>\n",
       "      <td>972595.000000</td>\n",
       "      <td>972595.000000</td>\n",
       "      <td>972595.000000</td>\n",
       "    </tr>\n",
       "    <tr>\n",
       "      <th>mean</th>\n",
       "      <td>494401.003385</td>\n",
       "      <td>494279.996615</td>\n",
       "      <td>13.223764</td>\n",
       "      <td>2252.157428</td>\n",
       "      <td>363.660166</td>\n",
       "      <td>14.961499</td>\n",
       "      <td>2.041520</td>\n",
       "      <td>0.174886</td>\n",
       "      <td>0.356318</td>\n",
       "      <td>0.132572</td>\n",
       "      <td>...</td>\n",
       "      <td>0.003790</td>\n",
       "      <td>0.048680</td>\n",
       "      <td>0.024993</td>\n",
       "      <td>0.000103</td>\n",
       "      <td>0.320642</td>\n",
       "      <td>0.054722</td>\n",
       "      <td>0.139639</td>\n",
       "      <td>0.166032</td>\n",
       "      <td>0.003070</td>\n",
       "      <td>0.010691</td>\n",
       "    </tr>\n",
       "    <tr>\n",
       "      <th>std</th>\n",
       "      <td>285416.255407</td>\n",
       "      <td>285416.255407</td>\n",
       "      <td>6.714663</td>\n",
       "      <td>778.103739</td>\n",
       "      <td>753.654021</td>\n",
       "      <td>20.458390</td>\n",
       "      <td>0.826147</td>\n",
       "      <td>0.379870</td>\n",
       "      <td>0.478911</td>\n",
       "      <td>0.339112</td>\n",
       "      <td>...</td>\n",
       "      <td>0.061445</td>\n",
       "      <td>0.215198</td>\n",
       "      <td>0.156104</td>\n",
       "      <td>0.010139</td>\n",
       "      <td>0.466724</td>\n",
       "      <td>0.227436</td>\n",
       "      <td>0.346612</td>\n",
       "      <td>0.372110</td>\n",
       "      <td>0.055324</td>\n",
       "      <td>0.102843</td>\n",
       "    </tr>\n",
       "    <tr>\n",
       "      <th>min</th>\n",
       "      <td>1.000000</td>\n",
       "      <td>1.000000</td>\n",
       "      <td>0.000000</td>\n",
       "      <td>2100.000000</td>\n",
       "      <td>0.000000</td>\n",
       "      <td>1.000000</td>\n",
       "      <td>0.000000</td>\n",
       "      <td>0.000000</td>\n",
       "      <td>0.000000</td>\n",
       "      <td>0.000000</td>\n",
       "      <td>...</td>\n",
       "      <td>0.000000</td>\n",
       "      <td>0.000000</td>\n",
       "      <td>0.000000</td>\n",
       "      <td>0.000000</td>\n",
       "      <td>0.000000</td>\n",
       "      <td>0.000000</td>\n",
       "      <td>0.000000</td>\n",
       "      <td>0.000000</td>\n",
       "      <td>0.000000</td>\n",
       "      <td>0.000000</td>\n",
       "    </tr>\n",
       "    <tr>\n",
       "      <th>25%</th>\n",
       "      <td>247260.500000</td>\n",
       "      <td>247077.500000</td>\n",
       "      <td>8.000000</td>\n",
       "      <td>2111.000000</td>\n",
       "      <td>4.000000</td>\n",
       "      <td>3.000000</td>\n",
       "      <td>2.000000</td>\n",
       "      <td>0.000000</td>\n",
       "      <td>0.000000</td>\n",
       "      <td>0.000000</td>\n",
       "      <td>...</td>\n",
       "      <td>0.000000</td>\n",
       "      <td>0.000000</td>\n",
       "      <td>0.000000</td>\n",
       "      <td>0.000000</td>\n",
       "      <td>0.000000</td>\n",
       "      <td>0.000000</td>\n",
       "      <td>0.000000</td>\n",
       "      <td>0.000000</td>\n",
       "      <td>0.000000</td>\n",
       "      <td>0.000000</td>\n",
       "    </tr>\n",
       "    <tr>\n",
       "      <th>50%</th>\n",
       "      <td>494404.000000</td>\n",
       "      <td>494277.000000</td>\n",
       "      <td>14.000000</td>\n",
       "      <td>2113.000000</td>\n",
       "      <td>53.000000</td>\n",
       "      <td>6.000000</td>\n",
       "      <td>2.000000</td>\n",
       "      <td>0.000000</td>\n",
       "      <td>0.000000</td>\n",
       "      <td>0.000000</td>\n",
       "      <td>...</td>\n",
       "      <td>0.000000</td>\n",
       "      <td>0.000000</td>\n",
       "      <td>0.000000</td>\n",
       "      <td>0.000000</td>\n",
       "      <td>0.000000</td>\n",
       "      <td>0.000000</td>\n",
       "      <td>0.000000</td>\n",
       "      <td>0.000000</td>\n",
       "      <td>0.000000</td>\n",
       "      <td>0.000000</td>\n",
       "    </tr>\n",
       "    <tr>\n",
       "      <th>75%</th>\n",
       "      <td>741603.500000</td>\n",
       "      <td>741420.500000</td>\n",
       "      <td>19.000000</td>\n",
       "      <td>2116.000000</td>\n",
       "      <td>298.000000</td>\n",
       "      <td>18.000000</td>\n",
       "      <td>2.000000</td>\n",
       "      <td>0.000000</td>\n",
       "      <td>1.000000</td>\n",
       "      <td>0.000000</td>\n",
       "      <td>...</td>\n",
       "      <td>0.000000</td>\n",
       "      <td>0.000000</td>\n",
       "      <td>0.000000</td>\n",
       "      <td>0.000000</td>\n",
       "      <td>1.000000</td>\n",
       "      <td>0.000000</td>\n",
       "      <td>0.000000</td>\n",
       "      <td>0.000000</td>\n",
       "      <td>0.000000</td>\n",
       "      <td>0.000000</td>\n",
       "    </tr>\n",
       "    <tr>\n",
       "      <th>max</th>\n",
       "      <td>988680.000000</td>\n",
       "      <td>988680.000000</td>\n",
       "      <td>23.000000</td>\n",
       "      <td>8101.000000</td>\n",
       "      <td>5220.000000</td>\n",
       "      <td>149.000000</td>\n",
       "      <td>74.000000</td>\n",
       "      <td>1.000000</td>\n",
       "      <td>1.000000</td>\n",
       "      <td>1.000000</td>\n",
       "      <td>...</td>\n",
       "      <td>1.000000</td>\n",
       "      <td>1.000000</td>\n",
       "      <td>1.000000</td>\n",
       "      <td>1.000000</td>\n",
       "      <td>1.000000</td>\n",
       "      <td>1.000000</td>\n",
       "      <td>1.000000</td>\n",
       "      <td>1.000000</td>\n",
       "      <td>1.000000</td>\n",
       "      <td>1.000000</td>\n",
       "    </tr>\n",
       "  </tbody>\n",
       "</table>\n",
       "<p>8 rows × 33 columns</p>\n",
       "</div>"
      ],
      "text/plain": [
       "               index        row_num    hour_of_day     entry_page  \\\n",
       "count  972595.000000  972595.000000  972595.000000  972595.000000   \n",
       "mean   494401.003385  494279.996615      13.223764    2252.157428   \n",
       "std    285416.255407  285416.255407       6.714663     778.103739   \n",
       "min         1.000000       1.000000       0.000000    2100.000000   \n",
       "25%    247260.500000  247077.500000       8.000000    2111.000000   \n",
       "50%    494404.000000  494277.000000      14.000000    2113.000000   \n",
       "75%    741603.500000  741420.500000      19.000000    2116.000000   \n",
       "max    988680.000000  988680.000000      23.000000    8101.000000   \n",
       "\n",
       "       session_duration           hits    path_length      locale_L2  \\\n",
       "count     972595.000000  606811.000000  972595.000000  972595.000000   \n",
       "mean         363.660166      14.961499       2.041520       0.174886   \n",
       "std          753.654021      20.458390       0.826147       0.379870   \n",
       "min            0.000000       1.000000       0.000000       0.000000   \n",
       "25%            4.000000       3.000000       2.000000       0.000000   \n",
       "50%           53.000000       6.000000       2.000000       0.000000   \n",
       "75%          298.000000      18.000000       2.000000       0.000000   \n",
       "max         5220.000000     149.000000      74.000000       1.000000   \n",
       "\n",
       "           locale_L3      locale_L4  ...       agent_12       agent_13  \\\n",
       "count  972595.000000  972595.000000  ...  972595.000000  972595.000000   \n",
       "mean        0.356318       0.132572  ...       0.003790       0.048680   \n",
       "std         0.478911       0.339112  ...       0.061445       0.215198   \n",
       "min         0.000000       0.000000  ...       0.000000       0.000000   \n",
       "25%         0.000000       0.000000  ...       0.000000       0.000000   \n",
       "50%         0.000000       0.000000  ...       0.000000       0.000000   \n",
       "75%         1.000000       0.000000  ...       0.000000       0.000000   \n",
       "max         1.000000       1.000000  ...       1.000000       1.000000   \n",
       "\n",
       "            agent_14       agent_15      traffic_2      traffic_3  \\\n",
       "count  972595.000000  972595.000000  972595.000000  972595.000000   \n",
       "mean        0.024993       0.000103       0.320642       0.054722   \n",
       "std         0.156104       0.010139       0.466724       0.227436   \n",
       "min         0.000000       0.000000       0.000000       0.000000   \n",
       "25%         0.000000       0.000000       0.000000       0.000000   \n",
       "50%         0.000000       0.000000       0.000000       0.000000   \n",
       "75%         0.000000       0.000000       1.000000       0.000000   \n",
       "max         1.000000       1.000000       1.000000       1.000000   \n",
       "\n",
       "           traffic_4      traffic_6      traffic_7     traffic_10  \n",
       "count  972595.000000  972595.000000  972595.000000  972595.000000  \n",
       "mean        0.139639       0.166032       0.003070       0.010691  \n",
       "std         0.346612       0.372110       0.055324       0.102843  \n",
       "min         0.000000       0.000000       0.000000       0.000000  \n",
       "25%         0.000000       0.000000       0.000000       0.000000  \n",
       "50%         0.000000       0.000000       0.000000       0.000000  \n",
       "75%         0.000000       0.000000       0.000000       0.000000  \n",
       "max         1.000000       1.000000       1.000000       1.000000  \n",
       "\n",
       "[8 rows x 33 columns]"
      ]
     },
     "execution_count": 52,
     "metadata": {},
     "output_type": "execute_result"
    }
   ],
   "source": [
    "df_encoded = df_clean.copy().reset_index() # getting a new DataFrame instance for encodings\n",
    "\n",
    "for i in ('locale', 'agent_id', 'traffic_type'):\n",
    "    dummies = pd.get_dummies(df_encoded[i], drop_first=True,  prefix=i.split('_')[0])\n",
    "    df_encoded = pd.concat([df_encoded, dummies], axis=1)\n",
    "    df_encoded = df_encoded.drop(columns=[i]) \n",
    "df_encoded.describe()"
   ]
  },
  {
   "cell_type": "markdown",
   "metadata": {},
   "source": [
    "Next, we have two categorical features with a very large number of discrete categories. Using one-hot-encoding here will lead us to a bad place, named curse of dimensionality.\n",
    "So, instead well limit the encodings for these features to 10 by using FeatureHasher for entry_page while we have already replaced path_id_set by path_length."
   ]
  },
  {
   "cell_type": "code",
   "execution_count": 53,
   "metadata": {},
   "outputs": [],
   "source": [
    "hasher = FeatureHasher(n_features=10, input_type='string')\n",
    "hashed_features = hasher.fit_transform(df_encoded['entry_page'].astype(str))\n",
    "hashed_features = hashed_features.toarray()\n",
    "df_encoded = pd.concat([df_encoded.drop(columns=['entry_page']), pd.DataFrame(hashed_features, \n",
    "                                                                 columns=['ep_0', 'ep_1', 'ep_2', 'ep_3', 'ep_4', \n",
    "                                                                          'ep_5', 'ep_6', 'ep_7',\n",
    "                                                                          'ep_8', 'ep_9'])], axis=1)\n",
    "\n"
   ]
  },
  {
   "cell_type": "code",
   "execution_count": 54,
   "metadata": {},
   "outputs": [
    {
     "data": {
      "text/html": [
       "<div>\n",
       "<style scoped>\n",
       "    .dataframe tbody tr th:only-of-type {\n",
       "        vertical-align: middle;\n",
       "    }\n",
       "\n",
       "    .dataframe tbody tr th {\n",
       "        vertical-align: top;\n",
       "    }\n",
       "\n",
       "    .dataframe thead th {\n",
       "        text-align: right;\n",
       "    }\n",
       "</style>\n",
       "<table border=\"1\" class=\"dataframe\">\n",
       "  <thead>\n",
       "    <tr style=\"text-align: right;\">\n",
       "      <th></th>\n",
       "      <th>index</th>\n",
       "      <th>row_num</th>\n",
       "      <th>hour_of_day</th>\n",
       "      <th>session_duration</th>\n",
       "      <th>hits</th>\n",
       "      <th>path_length</th>\n",
       "      <th>locale_L2</th>\n",
       "      <th>locale_L3</th>\n",
       "      <th>locale_L4</th>\n",
       "      <th>locale_L5</th>\n",
       "      <th>...</th>\n",
       "      <th>ep_0</th>\n",
       "      <th>ep_1</th>\n",
       "      <th>ep_2</th>\n",
       "      <th>ep_3</th>\n",
       "      <th>ep_4</th>\n",
       "      <th>ep_5</th>\n",
       "      <th>ep_6</th>\n",
       "      <th>ep_7</th>\n",
       "      <th>ep_8</th>\n",
       "      <th>ep_9</th>\n",
       "    </tr>\n",
       "  </thead>\n",
       "  <tbody>\n",
       "    <tr>\n",
       "      <th>count</th>\n",
       "      <td>972595.000000</td>\n",
       "      <td>972595.000000</td>\n",
       "      <td>972595.000000</td>\n",
       "      <td>972595.000000</td>\n",
       "      <td>606811.000000</td>\n",
       "      <td>972595.000000</td>\n",
       "      <td>972595.000000</td>\n",
       "      <td>972595.000000</td>\n",
       "      <td>972595.000000</td>\n",
       "      <td>972595.000000</td>\n",
       "      <td>...</td>\n",
       "      <td>972595.000000</td>\n",
       "      <td>972595.000000</td>\n",
       "      <td>972595.000000</td>\n",
       "      <td>972595.000000</td>\n",
       "      <td>972595.0</td>\n",
       "      <td>972595.0</td>\n",
       "      <td>972595.0</td>\n",
       "      <td>972595.000000</td>\n",
       "      <td>972595.000000</td>\n",
       "      <td>972595.000000</td>\n",
       "    </tr>\n",
       "    <tr>\n",
       "      <th>mean</th>\n",
       "      <td>494401.003385</td>\n",
       "      <td>494279.996615</td>\n",
       "      <td>13.223764</td>\n",
       "      <td>363.660166</td>\n",
       "      <td>14.961499</td>\n",
       "      <td>2.041520</td>\n",
       "      <td>0.174886</td>\n",
       "      <td>0.356318</td>\n",
       "      <td>0.132572</td>\n",
       "      <td>0.113310</td>\n",
       "      <td>...</td>\n",
       "      <td>0.585848</td>\n",
       "      <td>1.014003</td>\n",
       "      <td>-0.079324</td>\n",
       "      <td>-0.019134</td>\n",
       "      <td>0.0</td>\n",
       "      <td>0.0</td>\n",
       "      <td>0.0</td>\n",
       "      <td>-1.728529</td>\n",
       "      <td>0.065479</td>\n",
       "      <td>-0.507682</td>\n",
       "    </tr>\n",
       "    <tr>\n",
       "      <th>std</th>\n",
       "      <td>285416.255407</td>\n",
       "      <td>285416.255407</td>\n",
       "      <td>6.714663</td>\n",
       "      <td>753.654021</td>\n",
       "      <td>20.458390</td>\n",
       "      <td>0.826147</td>\n",
       "      <td>0.379870</td>\n",
       "      <td>0.478911</td>\n",
       "      <td>0.339112</td>\n",
       "      <td>0.316972</td>\n",
       "      <td>...</td>\n",
       "      <td>0.508024</td>\n",
       "      <td>0.273876</td>\n",
       "      <td>0.270358</td>\n",
       "      <td>0.139636</td>\n",
       "      <td>0.0</td>\n",
       "      <td>0.0</td>\n",
       "      <td>0.0</td>\n",
       "      <td>0.720100</td>\n",
       "      <td>0.252137</td>\n",
       "      <td>0.867897</td>\n",
       "    </tr>\n",
       "    <tr>\n",
       "      <th>min</th>\n",
       "      <td>1.000000</td>\n",
       "      <td>1.000000</td>\n",
       "      <td>0.000000</td>\n",
       "      <td>0.000000</td>\n",
       "      <td>1.000000</td>\n",
       "      <td>0.000000</td>\n",
       "      <td>0.000000</td>\n",
       "      <td>0.000000</td>\n",
       "      <td>0.000000</td>\n",
       "      <td>0.000000</td>\n",
       "      <td>...</td>\n",
       "      <td>0.000000</td>\n",
       "      <td>0.000000</td>\n",
       "      <td>-2.000000</td>\n",
       "      <td>-2.000000</td>\n",
       "      <td>0.0</td>\n",
       "      <td>0.0</td>\n",
       "      <td>0.0</td>\n",
       "      <td>-3.000000</td>\n",
       "      <td>0.000000</td>\n",
       "      <td>-2.000000</td>\n",
       "    </tr>\n",
       "    <tr>\n",
       "      <th>25%</th>\n",
       "      <td>247260.500000</td>\n",
       "      <td>247077.500000</td>\n",
       "      <td>8.000000</td>\n",
       "      <td>4.000000</td>\n",
       "      <td>3.000000</td>\n",
       "      <td>2.000000</td>\n",
       "      <td>0.000000</td>\n",
       "      <td>0.000000</td>\n",
       "      <td>0.000000</td>\n",
       "      <td>0.000000</td>\n",
       "      <td>...</td>\n",
       "      <td>0.000000</td>\n",
       "      <td>1.000000</td>\n",
       "      <td>0.000000</td>\n",
       "      <td>0.000000</td>\n",
       "      <td>0.0</td>\n",
       "      <td>0.0</td>\n",
       "      <td>0.0</td>\n",
       "      <td>-2.000000</td>\n",
       "      <td>0.000000</td>\n",
       "      <td>-2.000000</td>\n",
       "    </tr>\n",
       "    <tr>\n",
       "      <th>50%</th>\n",
       "      <td>494404.000000</td>\n",
       "      <td>494277.000000</td>\n",
       "      <td>14.000000</td>\n",
       "      <td>53.000000</td>\n",
       "      <td>6.000000</td>\n",
       "      <td>2.000000</td>\n",
       "      <td>0.000000</td>\n",
       "      <td>0.000000</td>\n",
       "      <td>0.000000</td>\n",
       "      <td>0.000000</td>\n",
       "      <td>...</td>\n",
       "      <td>1.000000</td>\n",
       "      <td>1.000000</td>\n",
       "      <td>0.000000</td>\n",
       "      <td>0.000000</td>\n",
       "      <td>0.0</td>\n",
       "      <td>0.0</td>\n",
       "      <td>0.0</td>\n",
       "      <td>-2.000000</td>\n",
       "      <td>0.000000</td>\n",
       "      <td>0.000000</td>\n",
       "    </tr>\n",
       "    <tr>\n",
       "      <th>75%</th>\n",
       "      <td>741603.500000</td>\n",
       "      <td>741420.500000</td>\n",
       "      <td>19.000000</td>\n",
       "      <td>298.000000</td>\n",
       "      <td>18.000000</td>\n",
       "      <td>2.000000</td>\n",
       "      <td>0.000000</td>\n",
       "      <td>1.000000</td>\n",
       "      <td>0.000000</td>\n",
       "      <td>0.000000</td>\n",
       "      <td>...</td>\n",
       "      <td>1.000000</td>\n",
       "      <td>1.000000</td>\n",
       "      <td>0.000000</td>\n",
       "      <td>0.000000</td>\n",
       "      <td>0.0</td>\n",
       "      <td>0.0</td>\n",
       "      <td>0.0</td>\n",
       "      <td>-1.000000</td>\n",
       "      <td>0.000000</td>\n",
       "      <td>0.000000</td>\n",
       "    </tr>\n",
       "    <tr>\n",
       "      <th>max</th>\n",
       "      <td>988680.000000</td>\n",
       "      <td>988680.000000</td>\n",
       "      <td>23.000000</td>\n",
       "      <td>5220.000000</td>\n",
       "      <td>149.000000</td>\n",
       "      <td>74.000000</td>\n",
       "      <td>1.000000</td>\n",
       "      <td>1.000000</td>\n",
       "      <td>1.000000</td>\n",
       "      <td>1.000000</td>\n",
       "      <td>...</td>\n",
       "      <td>3.000000</td>\n",
       "      <td>4.000000</td>\n",
       "      <td>0.000000</td>\n",
       "      <td>0.000000</td>\n",
       "      <td>0.0</td>\n",
       "      <td>0.0</td>\n",
       "      <td>0.0</td>\n",
       "      <td>0.000000</td>\n",
       "      <td>3.000000</td>\n",
       "      <td>0.000000</td>\n",
       "    </tr>\n",
       "  </tbody>\n",
       "</table>\n",
       "<p>8 rows × 42 columns</p>\n",
       "</div>"
      ],
      "text/plain": [
       "               index        row_num    hour_of_day  session_duration  \\\n",
       "count  972595.000000  972595.000000  972595.000000     972595.000000   \n",
       "mean   494401.003385  494279.996615      13.223764        363.660166   \n",
       "std    285416.255407  285416.255407       6.714663        753.654021   \n",
       "min         1.000000       1.000000       0.000000          0.000000   \n",
       "25%    247260.500000  247077.500000       8.000000          4.000000   \n",
       "50%    494404.000000  494277.000000      14.000000         53.000000   \n",
       "75%    741603.500000  741420.500000      19.000000        298.000000   \n",
       "max    988680.000000  988680.000000      23.000000       5220.000000   \n",
       "\n",
       "                hits    path_length      locale_L2      locale_L3  \\\n",
       "count  606811.000000  972595.000000  972595.000000  972595.000000   \n",
       "mean       14.961499       2.041520       0.174886       0.356318   \n",
       "std        20.458390       0.826147       0.379870       0.478911   \n",
       "min         1.000000       0.000000       0.000000       0.000000   \n",
       "25%         3.000000       2.000000       0.000000       0.000000   \n",
       "50%         6.000000       2.000000       0.000000       0.000000   \n",
       "75%        18.000000       2.000000       0.000000       1.000000   \n",
       "max       149.000000      74.000000       1.000000       1.000000   \n",
       "\n",
       "           locale_L4      locale_L5  ...           ep_0           ep_1  \\\n",
       "count  972595.000000  972595.000000  ...  972595.000000  972595.000000   \n",
       "mean        0.132572       0.113310  ...       0.585848       1.014003   \n",
       "std         0.339112       0.316972  ...       0.508024       0.273876   \n",
       "min         0.000000       0.000000  ...       0.000000       0.000000   \n",
       "25%         0.000000       0.000000  ...       0.000000       1.000000   \n",
       "50%         0.000000       0.000000  ...       1.000000       1.000000   \n",
       "75%         0.000000       0.000000  ...       1.000000       1.000000   \n",
       "max         1.000000       1.000000  ...       3.000000       4.000000   \n",
       "\n",
       "                ep_2           ep_3      ep_4      ep_5      ep_6  \\\n",
       "count  972595.000000  972595.000000  972595.0  972595.0  972595.0   \n",
       "mean       -0.079324      -0.019134       0.0       0.0       0.0   \n",
       "std         0.270358       0.139636       0.0       0.0       0.0   \n",
       "min        -2.000000      -2.000000       0.0       0.0       0.0   \n",
       "25%         0.000000       0.000000       0.0       0.0       0.0   \n",
       "50%         0.000000       0.000000       0.0       0.0       0.0   \n",
       "75%         0.000000       0.000000       0.0       0.0       0.0   \n",
       "max         0.000000       0.000000       0.0       0.0       0.0   \n",
       "\n",
       "                ep_7           ep_8           ep_9  \n",
       "count  972595.000000  972595.000000  972595.000000  \n",
       "mean       -1.728529       0.065479      -0.507682  \n",
       "std         0.720100       0.252137       0.867897  \n",
       "min        -3.000000       0.000000      -2.000000  \n",
       "25%        -2.000000       0.000000      -2.000000  \n",
       "50%        -2.000000       0.000000       0.000000  \n",
       "75%        -1.000000       0.000000       0.000000  \n",
       "max         0.000000       3.000000       0.000000  \n",
       "\n",
       "[8 rows x 42 columns]"
      ]
     },
     "execution_count": 54,
     "metadata": {},
     "output_type": "execute_result"
    }
   ],
   "source": [
    "df_encoded.drop(columns=['path_id_set'], inplace=True)\n",
    "df_encoded.describe()"
   ]
  },
  {
   "cell_type": "markdown",
   "metadata": {},
   "source": [
    "After adding hashed features, we're done with the categorical feature. \n",
    "Now we'll scale the contionuous features. various options were explored but the simplest option of MinMaxScaler worked as well as any other "
   ]
  },
  {
   "cell_type": "code",
   "execution_count": 55,
   "metadata": {},
   "outputs": [
    {
     "data": {
      "text/html": [
       "<div>\n",
       "<style scoped>\n",
       "    .dataframe tbody tr th:only-of-type {\n",
       "        vertical-align: middle;\n",
       "    }\n",
       "\n",
       "    .dataframe tbody tr th {\n",
       "        vertical-align: top;\n",
       "    }\n",
       "\n",
       "    .dataframe thead th {\n",
       "        text-align: right;\n",
       "    }\n",
       "</style>\n",
       "<table border=\"1\" class=\"dataframe\">\n",
       "  <thead>\n",
       "    <tr style=\"text-align: right;\">\n",
       "      <th></th>\n",
       "      <th>path_length</th>\n",
       "      <th>session_duration</th>\n",
       "    </tr>\n",
       "  </thead>\n",
       "  <tbody>\n",
       "    <tr>\n",
       "      <th>count</th>\n",
       "      <td>9.725950e+05</td>\n",
       "      <td>9.725950e+05</td>\n",
       "    </tr>\n",
       "    <tr>\n",
       "      <th>mean</th>\n",
       "      <td>1.709958e-16</td>\n",
       "      <td>-4.212431e-17</td>\n",
       "    </tr>\n",
       "    <tr>\n",
       "      <th>std</th>\n",
       "      <td>1.000001e+00</td>\n",
       "      <td>1.000001e+00</td>\n",
       "    </tr>\n",
       "    <tr>\n",
       "      <th>min</th>\n",
       "      <td>-2.471136e+00</td>\n",
       "      <td>-4.825296e-01</td>\n",
       "    </tr>\n",
       "    <tr>\n",
       "      <th>25%</th>\n",
       "      <td>-5.025726e-02</td>\n",
       "      <td>-4.772221e-01</td>\n",
       "    </tr>\n",
       "    <tr>\n",
       "      <th>50%</th>\n",
       "      <td>-5.025726e-02</td>\n",
       "      <td>-4.122055e-01</td>\n",
       "    </tr>\n",
       "    <tr>\n",
       "      <th>75%</th>\n",
       "      <td>-5.025726e-02</td>\n",
       "      <td>-8.712247e-02</td>\n",
       "    </tr>\n",
       "    <tr>\n",
       "      <th>max</th>\n",
       "      <td>8.710137e+01</td>\n",
       "      <td>6.443729e+00</td>\n",
       "    </tr>\n",
       "  </tbody>\n",
       "</table>\n",
       "</div>"
      ],
      "text/plain": [
       "        path_length  session_duration\n",
       "count  9.725950e+05      9.725950e+05\n",
       "mean   1.709958e-16     -4.212431e-17\n",
       "std    1.000001e+00      1.000001e+00\n",
       "min   -2.471136e+00     -4.825296e-01\n",
       "25%   -5.025726e-02     -4.772221e-01\n",
       "50%   -5.025726e-02     -4.122055e-01\n",
       "75%   -5.025726e-02     -8.712247e-02\n",
       "max    8.710137e+01      6.443729e+00"
      ]
     },
     "execution_count": 55,
     "metadata": {},
     "output_type": "execute_result"
    }
   ],
   "source": [
    "scaler  = StandardScaler()\n",
    "# minmax = MinMaxScaler()\n",
    "df_encoded[['path_length', 'session_duration']] = scaler.fit_transform(df_encoded[['path_length', 'session_duration']])\n",
    "# df_encoded[['path_length', 'session_duration']] = minmax.fit_transform(df_encoded[['path_length', 'session_duration']])\n",
    "\n",
    "df_encoded[['path_length', 'session_duration']].describe()\n"
   ]
  },
  {
   "cell_type": "markdown",
   "metadata": {},
   "source": [
    "For days and hours, we have to use cysclic encoding because they repeat periodically. Following cyclic method was used for encoding"
   ]
  },
  {
   "cell_type": "code",
   "execution_count": 56,
   "metadata": {},
   "outputs": [],
   "source": [
    "day_mapper  = dict(zip(['Sunday','Monday', 'Tuesday', 'Wednesday', 'Thursday', 'Friday', 'Saturday'], \n",
    "                       [0, 1, 2, 3 ,4, 5, 6]))\n",
    "\n",
    "df_encoded['day_of_week_enc'] = df_encoded['day_of_week'].map(day_mapper)\n",
    "\n"
   ]
  },
  {
   "cell_type": "code",
   "execution_count": 57,
   "metadata": {},
   "outputs": [],
   "source": [
    "\n",
    "df_encoded['day_sin'] =  np.sin(2*np.pi*df_encoded.day_of_week_enc/7)\n",
    "df_encoded['day_cos'] =  np.cos(2*np.pi*df_encoded.day_of_week_enc/7)\n",
    "\n",
    "df_encoded['hour_sin'] =  np.sin(2*np.pi*df_encoded.hour_of_day/24)\n",
    "df_encoded['hour_cos'] =  np.cos(2*np.pi*df_encoded.hour_of_day/24)\n",
    "\n",
    "df_encoded[['day_cos', 'day_sin']].describe()\n",
    "df_encoded[['hour_cos', 'hour_sin']].describe()\n",
    "\n",
    "df_encoded = df_encoded.drop(columns= ['day_of_week', 'day_of_week_enc', 'hour_of_day'])"
   ]
  },
  {
   "cell_type": "code",
   "execution_count": null,
   "metadata": {},
   "outputs": [],
   "source": []
  },
  {
   "cell_type": "code",
   "execution_count": 58,
   "metadata": {},
   "outputs": [
    {
     "name": "stdout",
     "output_type": "stream",
     "text": [
      "<class 'pandas.core.frame.DataFrame'>\n",
      "RangeIndex: 972595 entries, 0 to 972594\n",
      "Data columns (total 45 columns):\n",
      " #   Column            Non-Null Count   Dtype  \n",
      "---  ------            --------------   -----  \n",
      " 0   index             972595 non-null  int64  \n",
      " 1   row_num           972595 non-null  int64  \n",
      " 2   session_duration  972595 non-null  float64\n",
      " 3   hits              606811 non-null  float64\n",
      " 4   path_length       972595 non-null  float64\n",
      " 5   locale_L2         972595 non-null  uint8  \n",
      " 6   locale_L3         972595 non-null  uint8  \n",
      " 7   locale_L4         972595 non-null  uint8  \n",
      " 8   locale_L5         972595 non-null  uint8  \n",
      " 9   locale_L6         972595 non-null  uint8  \n",
      " 10  agent_1           972595 non-null  uint8  \n",
      " 11  agent_2           972595 non-null  uint8  \n",
      " 12  agent_3           972595 non-null  uint8  \n",
      " 13  agent_4           972595 non-null  uint8  \n",
      " 14  agent_5           972595 non-null  uint8  \n",
      " 15  agent_6           972595 non-null  uint8  \n",
      " 16  agent_7           972595 non-null  uint8  \n",
      " 17  agent_8           972595 non-null  uint8  \n",
      " 18  agent_9           972595 non-null  uint8  \n",
      " 19  agent_10          972595 non-null  uint8  \n",
      " 20  agent_11          972595 non-null  uint8  \n",
      " 21  agent_12          972595 non-null  uint8  \n",
      " 22  agent_13          972595 non-null  uint8  \n",
      " 23  agent_14          972595 non-null  uint8  \n",
      " 24  agent_15          972595 non-null  uint8  \n",
      " 25  traffic_2         972595 non-null  uint8  \n",
      " 26  traffic_3         972595 non-null  uint8  \n",
      " 27  traffic_4         972595 non-null  uint8  \n",
      " 28  traffic_6         972595 non-null  uint8  \n",
      " 29  traffic_7         972595 non-null  uint8  \n",
      " 30  traffic_10        972595 non-null  uint8  \n",
      " 31  ep_0              972595 non-null  float64\n",
      " 32  ep_1              972595 non-null  float64\n",
      " 33  ep_2              972595 non-null  float64\n",
      " 34  ep_3              972595 non-null  float64\n",
      " 35  ep_4              972595 non-null  float64\n",
      " 36  ep_5              972595 non-null  float64\n",
      " 37  ep_6              972595 non-null  float64\n",
      " 38  ep_7              972595 non-null  float64\n",
      " 39  ep_8              972595 non-null  float64\n",
      " 40  ep_9              972595 non-null  float64\n",
      " 41  day_sin           972595 non-null  float64\n",
      " 42  day_cos           972595 non-null  float64\n",
      " 43  hour_sin          972595 non-null  float64\n",
      " 44  hour_cos          972595 non-null  float64\n",
      "dtypes: float64(17), int64(2), uint8(26)\n",
      "memory usage: 165.1 MB\n"
     ]
    }
   ],
   "source": [
    "df_encoded.info()"
   ]
  },
  {
   "cell_type": "markdown",
   "metadata": {},
   "source": [
    "Finally, let's save the encoded files into csv files "
   ]
  },
  {
   "cell_type": "code",
   "execution_count": 59,
   "metadata": {},
   "outputs": [],
   "source": [
    "df_encoded.to_csv('feature_engineered_data_2.csv')"
   ]
  },
  {
   "cell_type": "code",
   "execution_count": 60,
   "metadata": {},
   "outputs": [],
   "source": [
    "df_encoded[df_encoded['hits'].notna()].to_csv('feature_engineered_data_with_hits_2.csv')"
   ]
  },
  {
   "cell_type": "code",
   "execution_count": 61,
   "metadata": {},
   "outputs": [],
   "source": [
    "df_encoded[df_encoded['hits'].isna()].to_csv('feature_engineered_data_without_hits_2.csv')"
   ]
  },
  {
   "cell_type": "code",
   "execution_count": 62,
   "metadata": {},
   "outputs": [
    {
     "data": {
      "text/html": [
       "<div>\n",
       "<style scoped>\n",
       "    .dataframe tbody tr th:only-of-type {\n",
       "        vertical-align: middle;\n",
       "    }\n",
       "\n",
       "    .dataframe tbody tr th {\n",
       "        vertical-align: top;\n",
       "    }\n",
       "\n",
       "    .dataframe thead th {\n",
       "        text-align: right;\n",
       "    }\n",
       "</style>\n",
       "<table border=\"1\" class=\"dataframe\">\n",
       "  <thead>\n",
       "    <tr style=\"text-align: right;\">\n",
       "      <th></th>\n",
       "      <th>index</th>\n",
       "      <th>row_num</th>\n",
       "      <th>session_duration</th>\n",
       "      <th>hits</th>\n",
       "      <th>path_length</th>\n",
       "      <th>locale_L2</th>\n",
       "      <th>locale_L3</th>\n",
       "      <th>locale_L4</th>\n",
       "      <th>locale_L5</th>\n",
       "      <th>locale_L6</th>\n",
       "      <th>...</th>\n",
       "      <th>ep_4</th>\n",
       "      <th>ep_5</th>\n",
       "      <th>ep_6</th>\n",
       "      <th>ep_7</th>\n",
       "      <th>ep_8</th>\n",
       "      <th>ep_9</th>\n",
       "      <th>day_sin</th>\n",
       "      <th>day_cos</th>\n",
       "      <th>hour_sin</th>\n",
       "      <th>hour_cos</th>\n",
       "    </tr>\n",
       "  </thead>\n",
       "  <tbody>\n",
       "    <tr>\n",
       "      <th>count</th>\n",
       "      <td>365784.000000</td>\n",
       "      <td>365784.000000</td>\n",
       "      <td>365784.000000</td>\n",
       "      <td>0.0</td>\n",
       "      <td>365784.000000</td>\n",
       "      <td>365784.000000</td>\n",
       "      <td>365784.000000</td>\n",
       "      <td>365784.000000</td>\n",
       "      <td>365784.000000</td>\n",
       "      <td>365784.000000</td>\n",
       "      <td>...</td>\n",
       "      <td>365784.0</td>\n",
       "      <td>365784.0</td>\n",
       "      <td>365784.0</td>\n",
       "      <td>365784.000000</td>\n",
       "      <td>365784.000000</td>\n",
       "      <td>365784.000000</td>\n",
       "      <td>365784.000000</td>\n",
       "      <td>365784.000000</td>\n",
       "      <td>365784.000000</td>\n",
       "      <td>3.657840e+05</td>\n",
       "    </tr>\n",
       "    <tr>\n",
       "      <th>mean</th>\n",
       "      <td>494033.505233</td>\n",
       "      <td>494647.494767</td>\n",
       "      <td>0.014446</td>\n",
       "      <td>NaN</td>\n",
       "      <td>0.022299</td>\n",
       "      <td>0.177722</td>\n",
       "      <td>0.370629</td>\n",
       "      <td>0.122006</td>\n",
       "      <td>0.108200</td>\n",
       "      <td>0.180697</td>\n",
       "      <td>...</td>\n",
       "      <td>0.0</td>\n",
       "      <td>0.0</td>\n",
       "      <td>0.0</td>\n",
       "      <td>-1.740306</td>\n",
       "      <td>0.059500</td>\n",
       "      <td>-0.501968</td>\n",
       "      <td>0.069154</td>\n",
       "      <td>-0.014569</td>\n",
       "      <td>-0.232938</td>\n",
       "      <td>-4.386616e-02</td>\n",
       "    </tr>\n",
       "    <tr>\n",
       "      <th>std</th>\n",
       "      <td>285336.762064</td>\n",
       "      <td>285336.762064</td>\n",
       "      <td>1.023467</td>\n",
       "      <td>NaN</td>\n",
       "      <td>1.062957</td>\n",
       "      <td>0.382279</td>\n",
       "      <td>0.482974</td>\n",
       "      <td>0.327294</td>\n",
       "      <td>0.310634</td>\n",
       "      <td>0.384767</td>\n",
       "      <td>...</td>\n",
       "      <td>0.0</td>\n",
       "      <td>0.0</td>\n",
       "      <td>0.0</td>\n",
       "      <td>0.708890</td>\n",
       "      <td>0.240909</td>\n",
       "      <td>0.864799</td>\n",
       "      <td>0.704294</td>\n",
       "      <td>0.706384</td>\n",
       "      <td>0.667747</td>\n",
       "      <td>7.056434e-01</td>\n",
       "    </tr>\n",
       "    <tr>\n",
       "      <th>min</th>\n",
       "      <td>15.000000</td>\n",
       "      <td>2.000000</td>\n",
       "      <td>-0.482530</td>\n",
       "      <td>NaN</td>\n",
       "      <td>-2.471136</td>\n",
       "      <td>0.000000</td>\n",
       "      <td>0.000000</td>\n",
       "      <td>0.000000</td>\n",
       "      <td>0.000000</td>\n",
       "      <td>0.000000</td>\n",
       "      <td>...</td>\n",
       "      <td>0.0</td>\n",
       "      <td>0.0</td>\n",
       "      <td>0.0</td>\n",
       "      <td>-3.000000</td>\n",
       "      <td>0.000000</td>\n",
       "      <td>-2.000000</td>\n",
       "      <td>-0.974928</td>\n",
       "      <td>-0.900969</td>\n",
       "      <td>-1.000000</td>\n",
       "      <td>-1.000000e+00</td>\n",
       "    </tr>\n",
       "    <tr>\n",
       "      <th>25%</th>\n",
       "      <td>246941.500000</td>\n",
       "      <td>247605.500000</td>\n",
       "      <td>-0.477222</td>\n",
       "      <td>NaN</td>\n",
       "      <td>-0.050257</td>\n",
       "      <td>0.000000</td>\n",
       "      <td>0.000000</td>\n",
       "      <td>0.000000</td>\n",
       "      <td>0.000000</td>\n",
       "      <td>0.000000</td>\n",
       "      <td>...</td>\n",
       "      <td>0.0</td>\n",
       "      <td>0.0</td>\n",
       "      <td>0.0</td>\n",
       "      <td>-2.000000</td>\n",
       "      <td>0.000000</td>\n",
       "      <td>-1.000000</td>\n",
       "      <td>-0.433884</td>\n",
       "      <td>-0.900969</td>\n",
       "      <td>-0.866025</td>\n",
       "      <td>-7.071068e-01</td>\n",
       "    </tr>\n",
       "    <tr>\n",
       "      <th>50%</th>\n",
       "      <td>493780.500000</td>\n",
       "      <td>494900.500000</td>\n",
       "      <td>-0.413532</td>\n",
       "      <td>NaN</td>\n",
       "      <td>-0.050257</td>\n",
       "      <td>0.000000</td>\n",
       "      <td>0.000000</td>\n",
       "      <td>0.000000</td>\n",
       "      <td>0.000000</td>\n",
       "      <td>0.000000</td>\n",
       "      <td>...</td>\n",
       "      <td>0.0</td>\n",
       "      <td>0.0</td>\n",
       "      <td>0.0</td>\n",
       "      <td>-2.000000</td>\n",
       "      <td>0.000000</td>\n",
       "      <td>0.000000</td>\n",
       "      <td>0.000000</td>\n",
       "      <td>-0.222521</td>\n",
       "      <td>-0.500000</td>\n",
       "      <td>-1.836970e-16</td>\n",
       "    </tr>\n",
       "    <tr>\n",
       "      <th>75%</th>\n",
       "      <td>741075.500000</td>\n",
       "      <td>741739.500000</td>\n",
       "      <td>-0.075181</td>\n",
       "      <td>NaN</td>\n",
       "      <td>-0.050257</td>\n",
       "      <td>0.000000</td>\n",
       "      <td>1.000000</td>\n",
       "      <td>0.000000</td>\n",
       "      <td>0.000000</td>\n",
       "      <td>0.000000</td>\n",
       "      <td>...</td>\n",
       "      <td>0.0</td>\n",
       "      <td>0.0</td>\n",
       "      <td>0.0</td>\n",
       "      <td>-1.000000</td>\n",
       "      <td>0.000000</td>\n",
       "      <td>0.000000</td>\n",
       "      <td>0.781831</td>\n",
       "      <td>0.623490</td>\n",
       "      <td>0.258819</td>\n",
       "      <td>7.071068e-01</td>\n",
       "    </tr>\n",
       "    <tr>\n",
       "      <th>max</th>\n",
       "      <td>988679.000000</td>\n",
       "      <td>988666.000000</td>\n",
       "      <td>6.441075</td>\n",
       "      <td>NaN</td>\n",
       "      <td>64.103027</td>\n",
       "      <td>1.000000</td>\n",
       "      <td>1.000000</td>\n",
       "      <td>1.000000</td>\n",
       "      <td>1.000000</td>\n",
       "      <td>1.000000</td>\n",
       "      <td>...</td>\n",
       "      <td>0.0</td>\n",
       "      <td>0.0</td>\n",
       "      <td>0.0</td>\n",
       "      <td>0.000000</td>\n",
       "      <td>3.000000</td>\n",
       "      <td>0.000000</td>\n",
       "      <td>0.974928</td>\n",
       "      <td>1.000000</td>\n",
       "      <td>1.000000</td>\n",
       "      <td>1.000000e+00</td>\n",
       "    </tr>\n",
       "  </tbody>\n",
       "</table>\n",
       "<p>8 rows × 45 columns</p>\n",
       "</div>"
      ],
      "text/plain": [
       "               index        row_num  session_duration  hits    path_length  \\\n",
       "count  365784.000000  365784.000000     365784.000000   0.0  365784.000000   \n",
       "mean   494033.505233  494647.494767          0.014446   NaN       0.022299   \n",
       "std    285336.762064  285336.762064          1.023467   NaN       1.062957   \n",
       "min        15.000000       2.000000         -0.482530   NaN      -2.471136   \n",
       "25%    246941.500000  247605.500000         -0.477222   NaN      -0.050257   \n",
       "50%    493780.500000  494900.500000         -0.413532   NaN      -0.050257   \n",
       "75%    741075.500000  741739.500000         -0.075181   NaN      -0.050257   \n",
       "max    988679.000000  988666.000000          6.441075   NaN      64.103027   \n",
       "\n",
       "           locale_L2      locale_L3      locale_L4      locale_L5  \\\n",
       "count  365784.000000  365784.000000  365784.000000  365784.000000   \n",
       "mean        0.177722       0.370629       0.122006       0.108200   \n",
       "std         0.382279       0.482974       0.327294       0.310634   \n",
       "min         0.000000       0.000000       0.000000       0.000000   \n",
       "25%         0.000000       0.000000       0.000000       0.000000   \n",
       "50%         0.000000       0.000000       0.000000       0.000000   \n",
       "75%         0.000000       1.000000       0.000000       0.000000   \n",
       "max         1.000000       1.000000       1.000000       1.000000   \n",
       "\n",
       "           locale_L6  ...      ep_4      ep_5      ep_6           ep_7  \\\n",
       "count  365784.000000  ...  365784.0  365784.0  365784.0  365784.000000   \n",
       "mean        0.180697  ...       0.0       0.0       0.0      -1.740306   \n",
       "std         0.384767  ...       0.0       0.0       0.0       0.708890   \n",
       "min         0.000000  ...       0.0       0.0       0.0      -3.000000   \n",
       "25%         0.000000  ...       0.0       0.0       0.0      -2.000000   \n",
       "50%         0.000000  ...       0.0       0.0       0.0      -2.000000   \n",
       "75%         0.000000  ...       0.0       0.0       0.0      -1.000000   \n",
       "max         1.000000  ...       0.0       0.0       0.0       0.000000   \n",
       "\n",
       "                ep_8           ep_9        day_sin        day_cos  \\\n",
       "count  365784.000000  365784.000000  365784.000000  365784.000000   \n",
       "mean        0.059500      -0.501968       0.069154      -0.014569   \n",
       "std         0.240909       0.864799       0.704294       0.706384   \n",
       "min         0.000000      -2.000000      -0.974928      -0.900969   \n",
       "25%         0.000000      -1.000000      -0.433884      -0.900969   \n",
       "50%         0.000000       0.000000       0.000000      -0.222521   \n",
       "75%         0.000000       0.000000       0.781831       0.623490   \n",
       "max         3.000000       0.000000       0.974928       1.000000   \n",
       "\n",
       "            hour_sin      hour_cos  \n",
       "count  365784.000000  3.657840e+05  \n",
       "mean       -0.232938 -4.386616e-02  \n",
       "std         0.667747  7.056434e-01  \n",
       "min        -1.000000 -1.000000e+00  \n",
       "25%        -0.866025 -7.071068e-01  \n",
       "50%        -0.500000 -1.836970e-16  \n",
       "75%         0.258819  7.071068e-01  \n",
       "max         1.000000  1.000000e+00  \n",
       "\n",
       "[8 rows x 45 columns]"
      ]
     },
     "execution_count": 62,
     "metadata": {},
     "output_type": "execute_result"
    }
   ],
   "source": [
    "df_encoded[df_encoded['hits'].isna()].describe()"
   ]
  },
  {
   "cell_type": "code",
   "execution_count": null,
   "metadata": {},
   "outputs": [],
   "source": []
  }
 ],
 "metadata": {
  "kernelspec": {
   "display_name": "Python 3",
   "language": "python",
   "name": "python3"
  },
  "language_info": {
   "codemirror_mode": {
    "name": "ipython",
    "version": 3
   },
   "file_extension": ".py",
   "mimetype": "text/x-python",
   "name": "python",
   "nbconvert_exporter": "python",
   "pygments_lexer": "ipython3",
   "version": "3.7.2"
  }
 },
 "nbformat": 4,
 "nbformat_minor": 2
}
